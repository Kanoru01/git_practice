{
 "cells": [
  {
   "cell_type": "code",
   "execution_count": 1,
   "id": "53de44ab",
   "metadata": {},
   "outputs": [
    {
     "data": {
      "text/plain": [
       "[3, 8]"
      ]
     },
     "execution_count": 1,
     "metadata": {},
     "output_type": "execute_result"
    }
   ],
   "source": [
    "my_list = [1, -2, 3, -5, 8]\n",
    "\n",
    "[num for num in my_list if num > 2]"
   ]
  },
  {
   "cell_type": "code",
   "execution_count": 2,
   "id": "197c495e",
   "metadata": {},
   "outputs": [
    {
     "data": {
      "text/plain": [
       "{2: 3, 5: 6, 8: 9}"
      ]
     },
     "execution_count": 2,
     "metadata": {},
     "output_type": "execute_result"
    }
   ],
   "source": [
    "embedded_tuples = [(1, 2, 3), (4, 5, 6), (7, 8, 9)]\n",
    "\n",
    "{arr[1]: arr[2] for arr in embedded_tuples}"
   ]
  },
  {
   "cell_type": "code",
   "execution_count": 3,
   "id": "e7151044",
   "metadata": {},
   "outputs": [
    {
     "data": {
      "text/plain": [
       "['P', 'i', 'e']"
      ]
     },
     "execution_count": 3,
     "metadata": {},
     "output_type": "execute_result"
    }
   ],
   "source": [
    "def abbrev(string):\n",
    "\n",
    "       return [substr[0] for substr in string.split()]\n",
    "\n",
    " \n",
    "\n",
    "abbrev('Python is easy')"
   ]
  },
  {
   "cell_type": "code",
   "execution_count": 5,
   "id": "528cebd2",
   "metadata": {},
   "outputs": [],
   "source": [
    "character = {'occupation': 'scientist', 'age': 3, 'languages': {'natural': ['english', 'french'], 'artificial': ['Python', 'JavaScript']}}"
   ]
  },
  {
   "cell_type": "code",
   "execution_count": 6,
   "id": "5e8ac89f",
   "metadata": {},
   "outputs": [
    {
     "data": {
      "text/plain": [
       "'s'"
      ]
     },
     "execution_count": 6,
     "metadata": {},
     "output_type": "execute_result"
    }
   ],
   "source": [
    "character['occupation'][0]"
   ]
  },
  {
   "cell_type": "code",
   "execution_count": 7,
   "id": "e09b6ffb",
   "metadata": {},
   "outputs": [
    {
     "data": {
      "text/plain": [
       "'Python'"
      ]
     },
     "execution_count": 7,
     "metadata": {},
     "output_type": "execute_result"
    }
   ],
   "source": [
    "character['languages']['artificial'][0]"
   ]
  },
  {
   "cell_type": "code",
   "execution_count": null,
   "id": "2f452622",
   "metadata": {},
   "outputs": [],
   "source": []
  }
 ],
 "metadata": {
  "kernelspec": {
   "display_name": "Python 3 (ipykernel)",
   "language": "python",
   "name": "python3"
  },
  "language_info": {
   "codemirror_mode": {
    "name": "ipython",
    "version": 3
   },
   "file_extension": ".py",
   "mimetype": "text/x-python",
   "name": "python",
   "nbconvert_exporter": "python",
   "pygments_lexer": "ipython3",
   "version": "3.9.12"
  }
 },
 "nbformat": 4,
 "nbformat_minor": 5
}
